{
  "cells": [
    {
      "cell_type": "markdown",
      "metadata": {},
      "source": [
        "<h2 style=\"text-align: center;\">SQL CLEANING DATA PROCESS</h1>"
      ]
    },
    {
      "cell_type": "markdown",
      "metadata": {},
      "source": [
        "---\n",
        "**1. Prepare enviorment**"
      ]
    },
    {
      "cell_type": "code",
      "execution_count": null,
      "metadata": {
        "trusted": true
      },
      "outputs": [],
      "source": [
        "--1. Create Database \n",
        "CREATE DATABASE world_layoffs;\n",
        "\n",
        "--2. Load data \n",
        "(link)\n",
        "\n",
        "--3. Create a duplicate db\n",
        "CREATE TABLE layoffs_staging\n",
        "LIKE layoffs;\n",
        "\n",
        "select * \n",
        "from layoffs_staging;\n",
        "\n",
        "--4. Poblate staging table\n",
        "insert layoffs_staging\n",
        "select *\n",
        "from layoffs;\n",
        "\n",
        "select * \n",
        "from layoffs_staging;"
      ]
    },
    {
      "cell_type": "markdown",
      "metadata": {},
      "source": [
        "---\n",
        "**2. Remove duplicates**"
      ]
    },
    {
      "cell_type": "code",
      "execution_count": null,
      "metadata": {
        "trusted": true
      },
      "outputs": [],
      "source": [
        "--2.1 Create a new colum for duplicates\n",
        "SELECT *,\n",
        "ROW_NUMBER() OVER (\n",
        "PARTITION BY company, location, industry, total_laid_off, percentage_laid_off, `date`, 
        country, stage, funds_raised_millions) AS row_num\n",
        "FROM layoffs_staging;\n",
        "\n",
        "--2.2 Show the duplicates\n",
        "WITH duplicate_cte AS\n",
        "(\n",
        "SELECT *,\n",
        "ROW_NUMBER() OVER (\n",
        "PARTITION BY company, location, industry, total_laid_off, percentage_laid_off, `date`, 
        country, stage, funds_raised_millions) AS row_num\n",
        "FROM layoffs_staging\n",
        ") \n",
        "SELECT *\n",
        "FROM duplicate_cte\n",
        "WHERE \trow_num > 1;\n",
        "\n",
        "--2.3 Delete duplicates\n",
        "CREATE TABLE `layoffs_staging2` (\n",
        "  `company` text,\n",
        "  `location` text,\n",
        "  `industry` text,\n",
        "  `total_laid_off` int DEFAULT NULL,\n",
        "  `percentage_laid_off` text,\n",
        "  `date` text,\n",
        "  `stage` text,\n",
        "  `country` text,\n",
        "  `funds_raised_millions` int DEFAULT NULL,\n",
        "  `row_num` int -- column added\n",
        ") ENGINE=InnoDB DEFAULT CHARSET=utf8mb4 COLLATE=utf8mb4_0900_ai_ci;\n",
        "\n",
        "select * \n",
        "from layoffs_staging2;\n",
        "\n",
        "INSERT INTO layoffs_staging2\n",
        "SELECT *,\n",
        "ROW_NUMBER() OVER (\n",
        "PARTITION BY company, location, industry, total_laid_off, percentage_laid_off, `date`, 
        country, stage, funds_raised_millions) AS row_num\n",
        "FROM layoffs_staging;\n",
        "\n",
        "select * \n",
        "from layoffs_staging2\n",
        "WHERE row_num > 1;\n",
        "\n",
        "DELETE \n",
        "from layoffs_staging2\n",
        "WHERE row_num >1;"
      ]
    },
    {
      "cell_type": "markdown",
      "metadata": {},
      "source": [
        "---\n",
        "**3. Stantatize data**"
      ]
    },
    {
      "cell_type": "code",
      "execution_count": null,
      "metadata": {
        "trusted": true
      },
      "outputs": [],
      "source": [
        "--3.1 Delete spaces, wrtiting errors and other characters\n",
        "-- check *company* column\n",
        "select distinct(company)\n",
        "from layoffs_staging2;\n",
        "\n",
        "select company, trim(company)\n",
        "from layoffs_staging2;\n",
        "\n",
        "UPDATE layoffs_staging2\n",
        "SET company = trim(company);\n",
        "\n",
        "-- check *industry* column\n",
        "select distinct(industry)\n",
        "from layoffs_staging2\n",
        "ORDER BY 1;\n",
        "\n",
        "UPDATE layoffs_staging2\n",
        "SET industry = 'Crypto'\n",
        "WHERE industry LIKE 'Crypto%';\n",
        "\n",
        "select distinct(industry)\n",
        "from layoffs_staging2\n",
        "ORDER BY 1;\n",
        "\n",
        "-- check *location* column\n",
        "select distinct(location)\n",
        "from layoffs_staging2\n",
        "ORDER BY 1;\n",
        "\n",
        "-- check *country* column\n",
        "select distinct(country)\n",
        "from layoffs_staging2\n",
        "ORDER BY 1;\n",
        "\n",
        "SELECT distinct country, trim(trailing '.' from country)\n",
        "from layoffs_staging2\n",
        "ORDER BY 1; \n",
        "\n",
        "UPDATE layoffs_staging2\n",
        "set country = trim(trailing '.' from country)\n",
        "WHERE country LIKE 'United States%';\n",
        "\n",
        "select distinct(country)\n",
        "from layoffs_staging2\n",
        "ORDER BY 1;\n",
        "\n",
        "--3.2 Convert *date* column to DATE format\n",
        "select date,\n",
        "str_to_date(date, '%m/%d/%Y')\n",
        "from layoffs_staging2;\n",
        "\n",
        "UPDATE layoffs_staging2\n",
        "set date = str_to_date(date, '%m/%d/%Y');\n",
        "\n",
        "select date\n",
        "from layoffs_staging2\n",
        "ORDER BY 1;\n",
        "\n",
        "ALTER TABLE layoffs_staging2\n",
        "MODIFY COLUMN date DATE;"
      ]
    },
    {
      "cell_type": "markdown",
      "metadata": {},
      "source": [
        "---\n",
        "**4. Null/Blank values**"
      ]
    },
    {
      "cell_type": "code",
      "execution_count": null,
      "metadata": {
        "trusted": true
      },
      "outputs": [],
      "source": [
        "--4.1 Convert all *blanks* to *nulls*\n",
        "UPDATE world_layoffs.layoffs_staging2\n",
        "SET industry = NULL\n",
        "WHERE industry = '';\n",
        "\n",
        "SELECT *\n",
        "FROM layoffs_staging2\n",
        "WHERE industry IS NULL\n",
        "OR industry = '';\n",
        "\n",
        "There're some colums already populated but, others no for the same company. Let's see this example \n",
        "SELECT *\n",
        "FROM layoffs_staging2\n",
        "WHERE company = \"Airbnb\";\n",
        "\n",
        "--4.2 We can create a new table so we can join them and populate the missing columns\n",
        "SELECT *\n",
        "FROM layoffs_staging2 t1\n",
        "JOIN layoffs_staging2 t2\n",
        "\tON t1.company = t2.company\n",
        "WHERE t1.industry IS NULL \n",
        "AND t2.industry IS NOT NULL;\n",
        "\n",
        "--4.3 Populating the empty columns\n",
        "UPDATE layoffs_staging2 t1\n",
        "JOIN layoffs_staging2 t2\n",
        "\tON t1.company = t2.company\n",
        "SET t1.industry = t2.industry \n",
        "WHERE t1.industry IS NULL\n",
        "AND t2.industry IS NOT NULL;\n",
        "\n",
        "--4.4 Delete rows with both *total_laid_off* and  *percentage_laid_off* columns with *null* values. \n",
        "SELECT *\n",
        "FROM layoffs_staging2\n",
        "WHERE total_laid_off IS NULL\n",
        "AND percentage_laid_off IS NULL;\n",
        "\n",
        "DELETE \n",
        "FROM layoffs_staging2\n",
        "WHERE total_laid_off IS NULL\n",
        "AND percentage_laid_off IS NULL;\n",
        "\n",
        "select *\n",
        "from layoffs_staging2;"
      ]
    },
    {
      "cell_type": "markdown",
      "metadata": {},
      "source": [
        "---\n",
        "**5. Final query**"
      ]
    },
    {
      "cell_type": "code",
      "execution_count": null,
      "metadata": {
        "trusted": true
      },
      "outputs": [],
      "source": [
        "--5.1 Delete unnecesary columns (*row_num*)\n",
        "ALTER TABLE layoffs_staging2\n",
        "DROP COLUMN row_num;\n",
        "\n",
        "select *\n",
        "from layoffs_staging2;"
      ]
    }
  ],
  "metadata": {
    "kernelspec": {
      "display_name": "SQLite",
      "language": "sql",
      "name": "SQLite"
    },
    "language_info": {
      "codemirror_mode": "sql",
      "file_extension": "",
      "mimetype": "",
      "name": "sql",
      "version": "3.32.3"
    }
  },
  "nbformat": 4,
  "nbformat_minor": 4
}
